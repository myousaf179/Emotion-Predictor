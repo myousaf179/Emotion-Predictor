{
 "cells": [
  {
   "cell_type": "code",
   "execution_count": 1,
   "metadata": {},
   "outputs": [
    {
     "name": "stdout",
     "output_type": "stream",
     "text": [
      "              precision    recall  f1-score   support\n",
      "\n",
      "       anger       0.46      0.53      0.49       208\n",
      "     disgust       0.57      0.65      0.61       194\n",
      "        fear       0.72      0.72      0.72       237\n",
      "       guilt       0.55      0.52      0.53       229\n",
      "         joy       0.69      0.74      0.72       211\n",
      "     sadness       0.66      0.65      0.65       201\n",
      "       shame       0.54      0.40      0.46       215\n",
      "\n",
      "    accuracy                           0.60      1495\n",
      "   macro avg       0.60      0.60      0.60      1495\n",
      "weighted avg       0.60      0.60      0.60      1495\n",
      "\n",
      "Model and Vectorizer Saved as 'emotion_model.pkl'!\n",
      "Predicted Emotion: joy (Confidence: 0.85)\n"
     ]
    }
   ],
   "source": [
    "import pandas as pd\n",
    "import re\n",
    "from sklearn.model_selection import train_test_split\n",
    "from sklearn.feature_extraction.text import TfidfVectorizer\n",
    "from sklearn.linear_model import LogisticRegression\n",
    "from sklearn.metrics import classification_report\n",
    "import pickle\n",
    "\n",
    "# Load Dataset\n",
    "input_path = \"isear.csv\"\n",
    "data = pd.read_csv(input_path)\n",
    "data.dropna(inplace=True)\n",
    "\n",
    "# Text Cleaning Function\n",
    "def clean_text(text):\n",
    "    text = text.lower()\n",
    "    text = re.sub(r'[^\\w\\s]', '', text)  # Remove punctuation\n",
    "    return text\n",
    "\n",
    "data['Clean_Text'] = data['Text'].apply(clean_text)\n",
    "\n",
    "# Split Data into Train and Test\n",
    "X_train, X_test, y_train, y_test = train_test_split(data['Clean_Text'], data['Emotion'], test_size=0.2, random_state=42)\n",
    "\n",
    "# Vectorize Text Data\n",
    "vectorizer = TfidfVectorizer(ngram_range=(1, 2), max_features=5000)\n",
    "X_train_vec = vectorizer.fit_transform(X_train)\n",
    "X_test_vec = vectorizer.transform(X_test)\n",
    "\n",
    "# Train Logistic Regression Model\n",
    "model = LogisticRegression(max_iter=1000)\n",
    "model.fit(X_train_vec, y_train)\n",
    "\n",
    "# Evaluate Model\n",
    "y_pred = model.predict(X_test_vec)\n",
    "print(classification_report(y_test, y_pred))\n",
    "\n",
    "# Save Model & Vectorizer in One File\n",
    "model_data = {'model': model, 'vectorizer': vectorizer}\n",
    "\n",
    "with open('emotion_model.pkl', 'wb') as f:\n",
    "    pickle.dump(model_data, f)\n",
    "\n",
    "print(\"Model and Vectorizer Saved as 'emotion_model.pkl'!\")\n",
    "\n",
    "# Function to Predict Emotion with Confidence Level\n",
    "def predict_emotion(text):\n",
    "    with open(\"emotion_model.pkl\", \"rb\") as f:\n",
    "        model_data = pickle.load(f)\n",
    "\n",
    "    model = model_data['model']\n",
    "    vectorizer = model_data['vectorizer']\n",
    "\n",
    "    # Transform text and predict\n",
    "    text_vec = vectorizer.transform([clean_text(text)])\n",
    "    probabilities = model.predict_proba(text_vec)[0]  # Get probabilities\n",
    "    emotion_index = probabilities.argmax()  # Get the highest probability index\n",
    "    emotion = model.classes_[emotion_index]  # Get the corresponding emotion\n",
    "    confidence = probabilities[emotion_index]  # Get confidence level\n",
    "\n",
    "    return emotion, confidence\n",
    "\n",
    "# Example Usage\n",
    "new_text = \"I am feeling very happy today\"\n",
    "emotion, confidence = predict_emotion(new_text)\n",
    "print(f\"Predicted Emotion: {emotion} (Confidence: {confidence:.2f})\")\n",
    "\n",
    "\n"
   ]
  },
  {
   "cell_type": "code",
   "execution_count": 2,
   "metadata": {},
   "outputs": [
    {
     "name": "stdout",
     "output_type": "stream",
     "text": [
      "2nd Predicted Emotion: joy (Confidence: 0.85)\n"
     ]
    }
   ],
   "source": [
    "# Taking User Input\n",
    "mytext = input(\"Enter the text: \")\n",
    "emotion, confidence = predict_emotion(mytext)\n",
    "print(f\"2nd Predicted Emotion: {emotion} (Confidence: {confidence:.2f})\")"
   ]
  },
  {
   "cell_type": "code",
   "execution_count": null,
   "metadata": {},
   "outputs": [],
   "source": []
  }
 ],
 "metadata": {
  "kaggle": {
   "accelerator": "gpu",
   "dataSources": [
    {
     "datasetId": 1635996,
     "sourceId": 2687361,
     "sourceType": "datasetVersion"
    },
    {
     "datasetId": 5157078,
     "sourceId": 8616273,
     "sourceType": "datasetVersion"
    }
   ],
   "dockerImageVersionId": 30132,
   "isGpuEnabled": true,
   "isInternetEnabled": true,
   "language": "python",
   "sourceType": "notebook"
  },
  "kernelspec": {
   "display_name": "base",
   "language": "python",
   "name": "python3"
  },
  "language_info": {
   "codemirror_mode": {
    "name": "ipython",
    "version": 3
   },
   "file_extension": ".py",
   "mimetype": "text/x-python",
   "name": "python",
   "nbconvert_exporter": "python",
   "pygments_lexer": "ipython3",
   "version": "3.11.5"
  }
 },
 "nbformat": 4,
 "nbformat_minor": 4
}
